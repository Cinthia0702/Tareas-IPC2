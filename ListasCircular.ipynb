{
  "nbformat": 4,
  "nbformat_minor": 0,
  "metadata": {
    "colab": {
      "name": "ListasCircular.ipynb",
      "provenance": [],
      "collapsed_sections": [],
      "authorship_tag": "ABX9TyM3En9409t9LlfdnuMkP5z2",
      "include_colab_link": true
    },
    "kernelspec": {
      "name": "python3",
      "display_name": "Python 3"
    },
    "language_info": {
      "name": "python"
    }
  },
  "cells": [
    {
      "cell_type": "markdown",
      "metadata": {
        "id": "view-in-github",
        "colab_type": "text"
      },
      "source": [
        "<a href=\"https://colab.research.google.com/github/Cinthia0702/Tareas-IPC2/blob/main/ListasCircular.ipynb\" target=\"_parent\"><img src=\"https://colab.research.google.com/assets/colab-badge.svg\" alt=\"Open In Colab\"/></a>"
      ]
    },
    {
      "cell_type": "markdown",
      "metadata": {
        "id": "W4cG3IsN0vSM"
      },
      "source": [
        "# Lista circular\n",
        "**Definición de la clase estudiante**"
      ]
    },
    {
      "cell_type": "code",
      "metadata": {
        "id": "oZNccEiz0td8"
      },
      "source": [
        "class estudiante:\n",
        "  def __init__(self,carne, nombre, edad, direccion, telefono, email, carrera, puesto):\n",
        "    self.carne = carne\n",
        "    self.nombre = nombre\n",
        "    self.edad = edad\n",
        "    self.direccion = direccion\n",
        "    self.telefono = telefono\n",
        "    self.email = email\n",
        "    self.carrera = carrera\n",
        "    self.puesto = puesto"
      ],
      "execution_count": 151,
      "outputs": []
    },
    {
      "cell_type": "markdown",
      "metadata": {
        "id": "ccUxXWKG049h"
      },
      "source": [
        "**Definición de la clase nodo**"
      ]
    },
    {
      "cell_type": "code",
      "metadata": {
        "id": "gzgbPIoz1jp-"
      },
      "source": [
        "class nodo:\n",
        "  def __init__(self, estudiante=None, siguiente=None):\n",
        "    self.estudiante=estudiante\n",
        "    self.siguiente=siguiente"
      ],
      "execution_count": 152,
      "outputs": []
    },
    {
      "cell_type": "markdown",
      "metadata": {
        "id": "wL4lHsdQ1rPQ"
      },
      "source": [
        "**Definición de la clase Lista Circular**"
      ]
    },
    {
      "cell_type": "code",
      "metadata": {
        "id": "hAHS18nr1qr3"
      },
      "source": [
        "class lista_circular:\n",
        "  def __init__(self):\n",
        "    self.primero=None\n",
        "\n",
        "  def insertar(self,estudiante):\n",
        "    if self.primero is None:\n",
        "      self.primero=nodo(estudiante=estudiante)\n",
        "      self.primero.siguiente=self.primero\n",
        "    else:\n",
        "      actual=nodo(estudiante=estudiante, siguiente=self.primero.siguiente)\n",
        "      self.primero.siguiente=actual\n",
        "    \n",
        "  def recorrer(self):\n",
        "    if self.primero is None:\n",
        "      return\n",
        "    actual=self.primero\n",
        "    print('Carne: ',actual.estudiante.carne, \"Nombre: \",actual.estudiante.nombre,\"Email: \",actual.estudiante.email,\"->\")\n",
        "    while actual.siguiente != self.primero:\n",
        "      actual=actual.siguiente\n",
        "      print('Carne: ',actual.estudiante.carne, \"Nombre: \",actual.estudiante.nombre,\"Email: \",actual.estudiante.email,\"->\")\n",
        "    \n",
        "  def eliminar(self,carne):\n",
        "    actual=self.primero\n",
        "    anterior=None\n",
        "    no_encontro=False\n",
        "\n",
        "    while actual and actual.estudiante.carne != carne:\n",
        "      anterior=actual\n",
        "      actual=actual.siguiente\n",
        "      if  actual == self.primero:\n",
        "        print('No se encontro')\n",
        "        no_encontro=True\n",
        "        break\n",
        "    if not no_encontro:\n",
        "      if anterior is not None:\n",
        "        anterior.siguiente =actual.siguiente\n",
        "      else:\n",
        "        while actual.siguiente != self.primero:\n",
        "          actual=actual.siguiente\n",
        "        actual.siguiente=self.primero.siguiente\n",
        "        self.primero=self.primero.siguiente\n",
        "\n",
        "  def buscar(self, carne):\n",
        "    new_node=self.primero\n",
        "    if new_node == None:\n",
        "      print('La lista esta vacia')\n",
        "    else:\n",
        "      existe_nodo=False\n",
        "      while new_node != None:\n",
        "        if carne == new_node.estudiante.carne:\n",
        "          print('Carne: ',new_node.estudiante.carne, \"Nombre: \",new_node.estudiante.nombre,\"Email: \",new_node.estudiante.email)\n",
        "          return \n",
        "        new_node=new_node.siguiente"
      ],
      "execution_count": 153,
      "outputs": []
    },
    {
      "cell_type": "markdown",
      "metadata": {
        "id": "B-tNyRyL96_b"
      },
      "source": [
        "**Creación de objeto Estudiante**"
      ]
    },
    {
      "cell_type": "code",
      "metadata": {
        "id": "O9X7FAIv-AiV"
      },
      "source": [
        "e1=estudiante(201915050,\"Gerson Ortiz\",20,\"9 calle 10-02 zona 1\", 24400101, \"gerson.ortiz@gmail.com\", \"Ingenieria en sistemas\",\"Programador Jr\")\n",
        "e2=estudiante(201915051,\"Karen Hurtarte\",21,\"7 calle 10-02 zona 1\", 24400102, \"karen.hurtarte@gmail.com\", \"Ingenieria en sistemas\",\"Programador Jr\")\n",
        "e3=estudiante(201915052,\"Luis Mendez\",22,\"8 calle 10-02 zona 1\", 244000103, \"luis.mendez@gmail.com\", \"Ingenieria en sistemas\",\"Programador Jr\")"
      ],
      "execution_count": 154,
      "outputs": []
    },
    {
      "cell_type": "markdown",
      "metadata": {
        "id": "1wXqi0yy-HLl"
      },
      "source": [
        "**Iteración**"
      ]
    },
    {
      "cell_type": "code",
      "metadata": {
        "id": "Gwi1M7SE-KG7"
      },
      "source": [
        "lista_c=lista_circular()\n",
        "lista_c.insertar(e1)\n",
        "lista_c.insertar(e2)\n",
        "lista_c.insertar(e3)\n"
      ],
      "execution_count": 155,
      "outputs": []
    },
    {
      "cell_type": "markdown",
      "metadata": {
        "id": "zXUUj0Fk-sq6"
      },
      "source": [
        "**Recorrer la lista**"
      ]
    },
    {
      "cell_type": "code",
      "metadata": {
        "colab": {
          "base_uri": "https://localhost:8080/"
        },
        "id": "Vv72VflU-lzk",
        "outputId": "7ad337d2-c5a5-493c-ba84-4a297c91e6c1"
      },
      "source": [
        "lista_c.recorrer()"
      ],
      "execution_count": 156,
      "outputs": [
        {
          "output_type": "stream",
          "text": [
            "Carne:  201915050 Nombre:  Gerson Ortiz Email:  gerson.ortiz@gmail.com ->\n",
            "Carne:  201915052 Nombre:  Luis Mendez Email:  luis.mendez@gmail.com ->\n",
            "Carne:  201915051 Nombre:  Karen Hurtarte Email:  karen.hurtarte@gmail.com ->\n"
          ],
          "name": "stdout"
        }
      ]
    },
    {
      "cell_type": "markdown",
      "metadata": {
        "id": "lWdHEzhIl8vo"
      },
      "source": [
        "**Eliminar un nodo de la lista**"
      ]
    },
    {
      "cell_type": "code",
      "metadata": {
        "colab": {
          "base_uri": "https://localhost:8080/"
        },
        "id": "Ot5NFqJlrv42",
        "outputId": "bf7cad5a-f0a7-4c60-8b47-76c9ca716591"
      },
      "source": [
        "lista_c.eliminar(201915051)\n",
        "lista_c.recorrer()"
      ],
      "execution_count": 157,
      "outputs": [
        {
          "output_type": "stream",
          "text": [
            "Carne:  201915050 Nombre:  Gerson Ortiz Email:  gerson.ortiz@gmail.com ->\n",
            "Carne:  201915052 Nombre:  Luis Mendez Email:  luis.mendez@gmail.com ->\n"
          ],
          "name": "stdout"
        }
      ]
    },
    {
      "cell_type": "markdown",
      "metadata": {
        "id": "teWz49e17py4"
      },
      "source": [
        "**Buscar un nodo de la lista**"
      ]
    },
    {
      "cell_type": "code",
      "metadata": {
        "colab": {
          "base_uri": "https://localhost:8080/"
        },
        "id": "Etp5OSZC7tXo",
        "outputId": "5e618139-9e86-44d5-90a8-b99e1bceadb2"
      },
      "source": [
        "lista_c.buscar(201915050)"
      ],
      "execution_count": 158,
      "outputs": [
        {
          "output_type": "stream",
          "text": [
            "Carne:  201915050 Nombre:  Gerson Ortiz Email:  gerson.ortiz@gmail.com\n"
          ],
          "name": "stdout"
        }
      ]
    }
  ]
}