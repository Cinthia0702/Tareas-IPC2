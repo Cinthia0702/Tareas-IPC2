{
  "nbformat": 4,
  "nbformat_minor": 0,
  "metadata": {
    "colab": {
      "name": "Tarea-1.ipynb",
      "provenance": [],
      "collapsed_sections": [],
      "authorship_tag": "ABX9TyMU6yHTbwSVR3vL+vd04vnl",
      "include_colab_link": true
    },
    "kernelspec": {
      "name": "python3",
      "display_name": "Python 3"
    },
    "language_info": {
      "name": "python"
    }
  },
  "cells": [
    {
      "cell_type": "markdown",
      "metadata": {
        "id": "view-in-github",
        "colab_type": "text"
      },
      "source": [
        "<a href=\"https://colab.research.google.com/github/Cinthia0702/Tareas-IPC2/blob/main/Tarea_1.ipynb\" target=\"_parent\"><img src=\"https://colab.research.google.com/assets/colab-badge.svg\" alt=\"Open In Colab\"/></a>"
      ]
    },
    {
      "cell_type": "markdown",
      "metadata": {
        "id": "KL5xx7grt7go"
      },
      "source": [
        "# Lista Enlazada\n",
        "\n",
        "Cinthia Avex Nim Quiñonez Alvarez\n",
        "201801075\n",
        "\n",
        "**Definición de la clase Estudiante**"
      ]
    },
    {
      "cell_type": "code",
      "metadata": {
        "id": "8QFMeJmiuEtA"
      },
      "source": [
        "class estudiante:\n",
        "  def __init__(self,carne, nombre, edad, direccion, telefono, email, carrera, puesto):\n",
        "    self.carne = carne\n",
        "    self.nombre = nombre\n",
        "    self.edad = edad\n",
        "    self.direccion = direccion\n",
        "    self.telefono = telefono\n",
        "    self.email = email\n",
        "    self.carrera = carrera\n",
        "    self.puesto = puesto\n"
      ],
      "execution_count": 212,
      "outputs": []
    },
    {
      "cell_type": "markdown",
      "metadata": {
        "id": "A-TAfY8KzU-Q"
      },
      "source": [
        "**Definición de la clase Nodo**\n"
      ]
    },
    {
      "cell_type": "code",
      "metadata": {
        "id": "yf-1QTnMzaly"
      },
      "source": [
        "class nodo:\n",
        "  def __init__(self, estudiante=None, siguiente=None):\n",
        "    self.estudiante=estudiante\n",
        "    self.siguiente=siguiente\n"
      ],
      "execution_count": 213,
      "outputs": []
    },
    {
      "cell_type": "markdown",
      "metadata": {
        "id": "YI3bxpUr25Ox"
      },
      "source": [
        "**Definición de la clase Lista Enlazada**\n"
      ]
    },
    {
      "cell_type": "code",
      "metadata": {
        "id": "9opvrLmE3Aia"
      },
      "source": [
        "class lista_enlazada:\n",
        "  def __init__(self):\n",
        "    self.primero = None\n",
        "\n",
        "  def insertar(self, student):\n",
        "    if self.primero is None:\n",
        "      self.primero=nodo(estudiante=student)\n",
        "      return\n",
        "    actual = self.primero\n",
        "    while actual.siguiente:\n",
        "      actual = actual.siguiente\n",
        "    actual.siguiente = nodo(estudiante=student)\n",
        "\n",
        "  def recorrer(self):\n",
        "    actual=self.primero\n",
        "    while actual != None:\n",
        "      print(\"Carne: \",actual.estudiante.carne, \"Nombre: \",actual.estudiante.nombre,\"Email: \",actual.estudiante.email)\n",
        "      actual = actual.siguiente\n",
        "  \n",
        "  def eliminar(self, carne):\n",
        "    actual=self.primero\n",
        "    anterior=None\n",
        "\n",
        "    while actual and actual.estudiante.carne != carne:\n",
        "      anterior = actual\n",
        "      actual = actual.siguiente\n",
        "    \n",
        "    if anterior is None:\n",
        "      self.primero = actual.siguiente\n",
        "      actual.siguiente = None\n",
        "    elif actual:\n",
        "      anterior.siguiente = actual.siguiente\n",
        "      actual.siguiente=None   \n",
        "    \n",
        "  def buscar(self, carne):\n",
        "    actual=self.primero\n",
        "    \n",
        "    if actual == None:\n",
        "      print('Lista vacia')\n",
        "    else:\n",
        "      while actual != None: \n",
        "        if actual.estudiante.carne == carne:\n",
        "          print(\"Carne: \",actual.estudiante.carne, \"Nombre: \",actual.estudiante.nombre,\"Email: \",actual.estudiante.email)\n",
        "        actual = actual.siguiente\n",
        "      "
      ],
      "execution_count": 214,
      "outputs": []
    },
    {
      "cell_type": "markdown",
      "metadata": {
        "id": "JtZzqv06shlb"
      },
      "source": [
        "**Creación de objeto Estudiante**\n"
      ]
    },
    {
      "cell_type": "code",
      "metadata": {
        "id": "g2Agwfrwss1D"
      },
      "source": [
        "e1=estudiante(201915050,\"Gerson Ortiz\",20,\"9 calle 10-02 zona 1\", 24400101, \"gerson.ortiz@gmail.com\", \"Ingenieria en sistemas\",\"Programador Jr\")\n",
        "e2=estudiante(201915051,\"Karen Hurtarte\",21,\"7 calle 10-02 zona 1\", 24400102, \"karen.hurtarte@gmail.com\", \"Ingenieria en sistemas\",\"Programador Jr\")\n",
        "e3=estudiante(201915052,\"Luis Mendez\",22,\"8 calle 10-02 zona 1\", 244000103, \"luis.mendez@gmail.com\", \"Ingenieria en sistemas\",\"Programador Jr\")"
      ],
      "execution_count": 215,
      "outputs": []
    },
    {
      "cell_type": "markdown",
      "metadata": {
        "id": "dRGSUlQKt13r"
      },
      "source": [
        "**Inserción**"
      ]
    },
    {
      "cell_type": "code",
      "metadata": {
        "id": "cLvvSC2xt6a9"
      },
      "source": [
        "lista_e=lista_enlazada()\n",
        "lista_e.insertar(e1)\n",
        "lista_e.insertar(e2)\n",
        "lista_e.insertar(e3)"
      ],
      "execution_count": 216,
      "outputs": []
    },
    {
      "cell_type": "markdown",
      "metadata": {
        "id": "82_daZrovaqI"
      },
      "source": [
        "**Recorrer la lista**"
      ]
    },
    {
      "cell_type": "code",
      "metadata": {
        "colab": {
          "base_uri": "https://localhost:8080/"
        },
        "id": "6ibGG31nxYtd",
        "outputId": "c8fcbd01-bf16-4fc8-87f1-649074692c0f"
      },
      "source": [
        "lista_e.recorrer()"
      ],
      "execution_count": 217,
      "outputs": [
        {
          "output_type": "stream",
          "text": [
            "Carne:  201915050 Nombre:  Gerson Ortiz Email:  gerson.ortiz@gmail.com\n",
            "Carne:  201915051 Nombre:  Karen Hurtarte Email:  karen.hurtarte@gmail.com\n",
            "Carne:  201915052 Nombre:  Luis Mendez Email:  luis.mendez@gmail.com\n"
          ],
          "name": "stdout"
        }
      ]
    },
    {
      "cell_type": "markdown",
      "metadata": {
        "id": "fmc_Q4U7waiC"
      },
      "source": [
        "**Eliminar un nodo de la lista**\n"
      ]
    },
    {
      "cell_type": "code",
      "metadata": {
        "colab": {
          "base_uri": "https://localhost:8080/"
        },
        "id": "fWP2o703whHH",
        "outputId": "278465d6-5be8-435f-a94c-9eba5329079b"
      },
      "source": [
        "lista_e.eliminar(201915051)\n",
        "lista_e.recorrer()"
      ],
      "execution_count": 218,
      "outputs": [
        {
          "output_type": "stream",
          "text": [
            "Carne:  201915050 Nombre:  Gerson Ortiz Email:  gerson.ortiz@gmail.com\n",
            "Carne:  201915052 Nombre:  Luis Mendez Email:  luis.mendez@gmail.com\n"
          ],
          "name": "stdout"
        }
      ]
    },
    {
      "cell_type": "markdown",
      "metadata": {
        "id": "w3fPOE5IBjRv"
      },
      "source": [
        "**Buscar un nodo de la lista**"
      ]
    },
    {
      "cell_type": "code",
      "metadata": {
        "colab": {
          "base_uri": "https://localhost:8080/"
        },
        "id": "ZXxpV-EbBnFF",
        "outputId": "f6adc865-eded-4c09-e97e-da41c0d2b954"
      },
      "source": [
        "lista_e.buscar(201915050)"
      ],
      "execution_count": 219,
      "outputs": [
        {
          "output_type": "stream",
          "text": [
            "Carne:  201915050 Nombre:  Gerson Ortiz Email:  gerson.ortiz@gmail.com\n"
          ],
          "name": "stdout"
        }
      ]
    }
  ]
}