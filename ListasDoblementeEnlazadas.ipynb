{
  "nbformat": 4,
  "nbformat_minor": 0,
  "metadata": {
    "colab": {
      "name": "ListasDoblementeEnlazadas.ipynb",
      "provenance": [],
      "collapsed_sections": [],
      "authorship_tag": "ABX9TyNpScbh1XEHafCAA9JfRHtt",
      "include_colab_link": true
    },
    "kernelspec": {
      "name": "python3",
      "display_name": "Python 3"
    },
    "language_info": {
      "name": "python"
    }
  },
  "cells": [
    {
      "cell_type": "markdown",
      "metadata": {
        "id": "view-in-github",
        "colab_type": "text"
      },
      "source": [
        "<a href=\"https://colab.research.google.com/github/Cinthia0702/Tareas-IPC2/blob/main/ListasDoblementeEnlazadas.ipynb\" target=\"_parent\"><img src=\"https://colab.research.google.com/assets/colab-badge.svg\" alt=\"Open In Colab\"/></a>"
      ]
    },
    {
      "cell_type": "markdown",
      "metadata": {
        "id": "VHyvW1FhvrXY"
      },
      "source": [
        "# Lista doblemente enlazada\n",
        "**Definición de clase estudiante**"
      ]
    },
    {
      "cell_type": "code",
      "metadata": {
        "id": "zMVfj7-hv32j"
      },
      "source": [
        "class estudiante:\n",
        "  def __init__(self,carne, nombre, edad, direccion, telefono, email, carrera, puesto):\n",
        "    self.carne = carne\n",
        "    self.nombre = nombre\n",
        "    self.edad = edad\n",
        "    self.direccion = direccion\n",
        "    self.telefono = telefono\n",
        "    self.email = email\n",
        "    self.carrera = carrera\n",
        "    self.puesto = puesto"
      ],
      "execution_count": 69,
      "outputs": []
    },
    {
      "cell_type": "markdown",
      "metadata": {
        "id": "tm6iFBozv77_"
      },
      "source": [
        "**Definición de la clase Nodo**"
      ]
    },
    {
      "cell_type": "code",
      "metadata": {
        "id": "e7WB6WrowFuV"
      },
      "source": [
        "class nodo:\n",
        "  def __init__(self, estudiante=None, siguiente=None, anterior=None):\n",
        "    self.estudiante=estudiante\n",
        "    self.siguiente=siguiente\n",
        "    self.anterior=anterior"
      ],
      "execution_count": 70,
      "outputs": []
    },
    {
      "cell_type": "markdown",
      "metadata": {
        "id": "YLuKZ7sjwHzC"
      },
      "source": [
        "**Definición de la clase Lista Doblemente Enlazada**"
      ]
    },
    {
      "cell_type": "code",
      "metadata": {
        "id": "Aw-PQH_NwXXa"
      },
      "source": [
        "class lista_doblemente_enlazada:\n",
        "  def __init__(self):\n",
        "    self.primero=None\n",
        "\n",
        "  def insertar(self, estudiante):\n",
        "    if self.primero is None:\n",
        "      self.primero = nodo(estudiante=estudiante)\n",
        "    else:\n",
        "      actual = nodo(estudiante=estudiante, siguiente=self.primero)\n",
        "      self.primero.anterior = actual\n",
        "      self.primero = actual\n",
        "    \n",
        "\n",
        "  def recorrer(self):\n",
        "    if self.primero is None:\n",
        "      return\n",
        "    actual=self.primero\n",
        "    print('Carne: ',actual.estudiante.carne,'Nombre: ',actual.estudiante.nombre,'Email: ',actual.estudiante.email,'->')\n",
        "    while actual.siguiente:\n",
        "      actual=actual.siguiente\n",
        "      print('Carne: ',actual.estudiante.carne,'Nombre: ',actual.estudiante.nombre,'Email: ',actual.estudiante.email,'->')\n",
        "\n",
        "  def eliminar(self, carne):\n",
        "    actual=self.primero\n",
        "    while actual:\n",
        "      if actual.estudiante.carne == carne:\n",
        "        if actual.anterior:\n",
        "          if actual.siguiente:\n",
        "            actual.anterior.siguiente = actual.siguiente\n",
        "            actual.siguiente.anterior = actual.anterior\n",
        "          else:\n",
        "            actual.anterior.siguiente=None\n",
        "            actual.anterior=None\n",
        "        else:\n",
        "          if actual.siguiente:\n",
        "            self.primero=actual.siguiente\n",
        "            actual.siguiente.anterior=None\n",
        "          else:\n",
        "            self.primero=None\n",
        "        return True\n",
        "      else:\n",
        "        actual=actual.siguiente\n",
        "    return False\n",
        "\n",
        "  def buscar(self,carne):\n",
        "    actual = self.primero\n",
        "    if actual==None:\n",
        "      print('Esta vacia')\n",
        "    else:\n",
        "      while actual != None:\n",
        "        if carne == actual.estudiante.carne:\n",
        "          print('Carne: ',actual.estudiante.carne,'Nombre: ',actual.estudiante.nombre,'Email: ',actual.estudiante.email,'->')\n",
        "        actual = actual.siguiente      "
      ],
      "execution_count": 71,
      "outputs": []
    },
    {
      "cell_type": "markdown",
      "metadata": {
        "id": "K6XhAD1X2TfQ"
      },
      "source": [
        "**Creación de objeto estudiante**"
      ]
    },
    {
      "cell_type": "code",
      "metadata": {
        "id": "HTOa3g_E2Xkh"
      },
      "source": [
        "e1=estudiante(201915050,\"Gerson Ortiz\",20,\"9 calle 10-02 zona 1\", 24400101, \"gerson.ortiz@gmail.com\", \"Ingenieria en sistemas\",\"Programador Jr\")\n",
        "e2=estudiante(201915051,\"Karen Hurtarte\",21,\"7 calle 10-02 zona 1\", 24400102, \"karen.hurtarte@gmail.com\", \"Ingenieria en sistemas\",\"Programador Jr\")\n",
        "e3=estudiante(201915052,\"Luis Mendez\",22,\"8 calle 10-02 zona 1\", 244000103, \"luis.mendez@gmail.com\", \"Ingenieria en sistemas\",\"Programador Jr\")"
      ],
      "execution_count": 72,
      "outputs": []
    },
    {
      "cell_type": "markdown",
      "metadata": {
        "id": "YUddrKwZ2Z7-"
      },
      "source": [
        "**Inserción**"
      ]
    },
    {
      "cell_type": "code",
      "metadata": {
        "id": "gU1cQP4z2dTw"
      },
      "source": [
        "lista_d=lista_doblemente_enlazada()\n",
        "lista_d.insertar(e1)\n",
        "lista_d.insertar(e2)\n",
        "lista_d.insertar(e3)"
      ],
      "execution_count": 82,
      "outputs": []
    },
    {
      "cell_type": "markdown",
      "metadata": {
        "id": "2Mkl7bEYwcpb"
      },
      "source": [
        "**Recorrer**"
      ]
    },
    {
      "cell_type": "code",
      "metadata": {
        "colab": {
          "base_uri": "https://localhost:8080/"
        },
        "id": "COeBkTztwf-e",
        "outputId": "a333198a-84f1-4f39-f731-a13ee8171ed1"
      },
      "source": [
        "lista_d.recorrer()"
      ],
      "execution_count": 83,
      "outputs": [
        {
          "output_type": "stream",
          "text": [
            "Carne:  201915052 Nombre:  Luis Mendez Email:  luis.mendez@gmail.com ->\n",
            "Carne:  201915051 Nombre:  Karen Hurtarte Email:  karen.hurtarte@gmail.com ->\n",
            "Carne:  201915050 Nombre:  Gerson Ortiz Email:  gerson.ortiz@gmail.com ->\n"
          ],
          "name": "stdout"
        }
      ]
    },
    {
      "cell_type": "markdown",
      "metadata": {
        "id": "6C7BbGZW7ikl"
      },
      "source": [
        "**Eliminar el nodo del medio de la lista**"
      ]
    },
    {
      "cell_type": "code",
      "metadata": {
        "colab": {
          "base_uri": "https://localhost:8080/"
        },
        "id": "XAsucIbs7rto",
        "outputId": "c8024510-c028-4ade-b8dc-8da84a99acb2"
      },
      "source": [
        "lista_d.eliminar(201915051)"
      ],
      "execution_count": 75,
      "outputs": [
        {
          "output_type": "execute_result",
          "data": {
            "text/plain": [
              "True"
            ]
          },
          "metadata": {},
          "execution_count": 75
        }
      ]
    },
    {
      "cell_type": "code",
      "metadata": {
        "colab": {
          "base_uri": "https://localhost:8080/"
        },
        "id": "huZzYjGd76EG",
        "outputId": "57cfa4de-b208-4d5e-f5e8-b1e63f8b34ce"
      },
      "source": [
        "lista_d.recorrer()"
      ],
      "execution_count": 76,
      "outputs": [
        {
          "output_type": "stream",
          "text": [
            "Carne:  201915052 Nombre:  Luis Mendez Email:  luis.mendez@gmail.com ->\n",
            "Carne:  201915050 Nombre:  Gerson Ortiz Email:  gerson.ortiz@gmail.com ->\n"
          ],
          "name": "stdout"
        }
      ]
    },
    {
      "cell_type": "markdown",
      "metadata": {
        "id": "7xudLmk68ETn"
      },
      "source": [
        "**Eliminar el nodo primero de la lista**"
      ]
    },
    {
      "cell_type": "code",
      "metadata": {
        "colab": {
          "base_uri": "https://localhost:8080/"
        },
        "id": "gXk-SkVS8H_v",
        "outputId": "d6308401-40c5-4bd3-9a20-c4ff4a36362c"
      },
      "source": [
        "lista_d.eliminar(201915052)"
      ],
      "execution_count": 77,
      "outputs": [
        {
          "output_type": "execute_result",
          "data": {
            "text/plain": [
              "True"
            ]
          },
          "metadata": {},
          "execution_count": 77
        }
      ]
    },
    {
      "cell_type": "code",
      "metadata": {
        "colab": {
          "base_uri": "https://localhost:8080/"
        },
        "id": "ZjKQzVQG8UBa",
        "outputId": "0d1cb5cb-cca4-469d-c39f-e2c0311fc7ed"
      },
      "source": [
        "lista_d.recorrer()"
      ],
      "execution_count": 78,
      "outputs": [
        {
          "output_type": "stream",
          "text": [
            "Carne:  201915050 Nombre:  Gerson Ortiz Email:  gerson.ortiz@gmail.com ->\n"
          ],
          "name": "stdout"
        }
      ]
    },
    {
      "cell_type": "markdown",
      "metadata": {
        "id": "ILd3VJS28glU"
      },
      "source": [
        "**Eliminar el ultimo nodo de la lista**"
      ]
    },
    {
      "cell_type": "code",
      "metadata": {
        "colab": {
          "base_uri": "https://localhost:8080/"
        },
        "id": "pVnOi_8W8lHA",
        "outputId": "433b3a6a-3ba9-4729-fa22-fe0d014732de"
      },
      "source": [
        "lista_d.eliminar(201915050)"
      ],
      "execution_count": 79,
      "outputs": [
        {
          "output_type": "execute_result",
          "data": {
            "text/plain": [
              "True"
            ]
          },
          "metadata": {},
          "execution_count": 79
        }
      ]
    },
    {
      "cell_type": "code",
      "metadata": {
        "id": "sLjMJX-M8qij"
      },
      "source": [
        "lista_d.recorrer()"
      ],
      "execution_count": 80,
      "outputs": []
    },
    {
      "cell_type": "markdown",
      "metadata": {
        "id": "o9X-CWUM7xUP"
      },
      "source": [
        "**Buscar un nodo de la lista**"
      ]
    },
    {
      "cell_type": "code",
      "metadata": {
        "colab": {
          "base_uri": "https://localhost:8080/"
        },
        "id": "EpcWcxwg72Ks",
        "outputId": "20243dff-a2f4-4267-edb2-aea64b11678f"
      },
      "source": [
        "lista_d.buscar(201915050)\n"
      ],
      "execution_count": 84,
      "outputs": [
        {
          "output_type": "stream",
          "text": [
            "Carne:  201915050 Nombre:  Gerson Ortiz Email:  gerson.ortiz@gmail.com ->\n"
          ],
          "name": "stdout"
        }
      ]
    }
  ]
}